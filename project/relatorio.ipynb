{
 "cells": [
  {
   "cell_type": "markdown",
   "metadata": {},
   "source": [
    "# INTRODUCAO"
   ]
  },
  {
   "cell_type": "markdown",
   "metadata": {},
   "source": [
    "Como ja sabemos, o NBA e' um dos esportes muito famoso nao so' no EUA mas no mundo inteiro. Por isso, tem muita preocupacao para entender melhor o comportamento de alguns aspectos do esporte em geral, atletas, os times etc. Com essa motivacao que pegamos uma base para entender o comportamento do NBA draft mock que acontece todos os anos. O que e' NBA draft mock? O NBA draft mock e' um processo onde as atletas das universidades nos EUA e fora do pais sao selecionadas pelos times do NBA. Primeiramente os times com desempenho ruin no ano passadeo tem a vantagen to pegar atletas mais cedo do que os times que tive bom desempenho. As atletas que nao foram draftados nao tem a chance de entrar de novo e deve ser asinado pelo um time que quer ele.Pegamos duas bases para nosso analise. A base que pegamos sao do NBA_DRAFT_1980_2017 e ..............  Para entender a base, tem que entender o que cada coluna tem na base. a primeira coluna \"year\" da a ideia de que ano essa atleta foi draftado, coluna \"round\" fala de qual etapa ele foi drafted pois tem 2 rounds para ser drafted. As atletas que os times acham sao melhores sao draftados no 1 round e outros no segundo round. Coluna \"pick\" fala sobre quando essa pessoa foi draftados. As atletas com um bom desempenho nas faculdades ou fora sao draftados mais cedo e ai seguinte. Coluna \"player\" da o nome do atleta. Coluna \"position\" fala sobre qual posicao essa atleta joga no campo. Coluna \"school\" fala sobre de qual faculdade foi essa atleta. Coluna \"allstar_appearance\" fala sobre quantas vezes essa pessoa foi um allstar. Ser Allstar significa que voce foi muito bom em um ano. Ai tem uma semana para comemora isso e faz em cada ano. Coluna \"allstar_by_school\" fala sobre se essa faculdade produce um allstar ou nao. se sim, nao importa quantas vezes essa pessoa foi, a faculdade tem so 1 e 0 no caso contrario. coluna \"draft_pick\" da 1 para cada universidade que teve um jogador no NBA. A outra base ................... tambem fala sobre of o jogador, o ano que foi draftado, a faculdade que foi, a idade dele e alem de mais, fala sobre o desempenho do esse jogador durante o ele tava no NBA. Para da um pouco entendimento neses colunas, coluna \"usg_pct\" fala sobre o quanto mais esse jogador foi usado em cada ano. Jogadores muito bons sao usados mais do que jogadores mais ou menos pois eles tem impacto muito grande quando esta no campo. Coluna \"player_height\" fala sobre a altura do jogador. Coluna \"player_weight\" fala sobre o peso do jogador. Coluna \"gp\" fala sobre a quantidade de jogos que ele jogo em um season. Coluna \"pts\" fala sobre a quantidade de pontos que ele teve em um season. Coluna \"reb\" fala sobre a quantidade total de robotes que ele fez. Coluna \"ast\" fala sobre a quantidade total de assitencia que ele deu. Coluna \"net_rating\" fala sobre quanto ele contribui no jogo quando esta no campo jogando. Pode ser negativo que significa que ele foi muito mal em total. Coluna \"oreb_pct\" fala sobre a porcentagem de robotes que ele fez comparando com a quantidade de jogo que ele jogo. Coluna \"ts_pct\" fala sobre a porcentagem de quanto ele perdeu a bola com a quantidade de jogo que jogou. \n",
    "O que queremos fazer com essa base? Pretende analiser se realmente ser draftados depende da universidade que voce foi? "
   ]
  },
  {
   "cell_type": "code",
   "execution_count": null,
   "metadata": {},
   "outputs": [],
   "source": []
  }
 ],
 "metadata": {
  "kernelspec": {
   "display_name": "Python 3",
   "language": "python",
   "name": "python3"
  },
  "language_info": {
   "codemirror_mode": {
    "name": "ipython",
    "version": 3
   },
   "file_extension": ".py",
   "mimetype": "text/x-python",
   "name": "python",
   "nbconvert_exporter": "python",
   "pygments_lexer": "ipython3",
   "version": "3.7.3"
  }
 },
 "nbformat": 4,
 "nbformat_minor": 2
}
